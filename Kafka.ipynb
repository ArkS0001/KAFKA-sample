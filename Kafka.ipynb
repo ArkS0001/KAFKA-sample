{
  "nbformat": 4,
  "nbformat_minor": 0,
  "metadata": {
    "colab": {
      "provenance": [],
      "authorship_tag": "ABX9TyM49Q3KfkW5H8T//Tv/mLg2",
      "include_colab_link": true
    },
    "kernelspec": {
      "name": "python3",
      "display_name": "Python 3"
    },
    "language_info": {
      "name": "python"
    }
  },
  "cells": [
    {
      "cell_type": "markdown",
      "metadata": {
        "id": "view-in-github",
        "colab_type": "text"
      },
      "source": [
        "<a href=\"https://colab.research.google.com/github/ArkS0001/KAFKA-sample/blob/main/Kafka.ipynb\" target=\"_parent\"><img src=\"https://colab.research.google.com/assets/colab-badge.svg\" alt=\"Open In Colab\"/></a>"
      ]
    },
    {
      "cell_type": "code",
      "execution_count": 1,
      "metadata": {
        "colab": {
          "base_uri": "https://localhost:8080/"
        },
        "id": "8ewt3FBikegK",
        "outputId": "21bddb26-d764-4a79-e494-2062d40e0c63"
      },
      "outputs": [
        {
          "output_type": "stream",
          "name": "stdout",
          "text": [
            "Collecting confluent_kafka\n",
            "  Downloading confluent_kafka-2.8.0-cp311-cp311-manylinux_2_28_x86_64.whl.metadata (21 kB)\n",
            "Downloading confluent_kafka-2.8.0-cp311-cp311-manylinux_2_28_x86_64.whl (3.8 MB)\n",
            "\u001b[2K   \u001b[90m━━━━━━━━━━━━━━━━━━━━━━━━━━━━━━━━━━━━━━━━\u001b[0m \u001b[32m3.8/3.8 MB\u001b[0m \u001b[31m24.3 MB/s\u001b[0m eta \u001b[36m0:00:00\u001b[0m\n",
            "\u001b[?25hInstalling collected packages: confluent_kafka\n",
            "Successfully installed confluent_kafka-2.8.0\n"
          ]
        }
      ],
      "source": [
        "!pip install confluent_kafka\n"
      ]
    },
    {
      "cell_type": "markdown",
      "source": [
        "Apache Kafka: Overview\n",
        "\n",
        "Apache Kafka is a distributed event streaming platform used for high-performance data processing. It is designed to handle real-time data feeds efficiently and reliably.\n",
        "\n",
        "Kafka is widely used for:\n",
        "\n",
        "    Messaging: Acts as a message broker between producers and consumers.\n",
        "    Event Streaming: Collecting and processing real-time event data.\n",
        "    Log Aggregation: Storing and distributing logs across distributed systems.\n",
        "    Data Processing Pipelines: Connecting data sources and analytics tools.\n",
        "\n",
        "Key Components of Kafka\n",
        "\n",
        "    Producer: Sends data (messages) to a Kafka topic.\n",
        "    Consumer: Reads data from a Kafka topic.\n",
        "    Broker: A Kafka server that stores and manages messages.\n",
        "    Topic: A logical channel to which messages are sent.\n",
        "    Partition: A division within a topic to enable parallel processing.\n",
        "    Zookeeper: Manages Kafka cluster configurations.\n",
        "\n",
        "Kafka Example in Google Colab\n",
        "\n",
        "Google Colab does not support direct installation of Kafka, as it requires a running cluster, but you can simulate a Kafka-like workflow using the confluent_kafka library.\n",
        "Steps\n",
        "\n",
        "    Install Kafka Client (confluent_kafka).\n",
        "    Create a producer to send messages.\n",
        "    Create a consumer to read messages."
      ],
      "metadata": {
        "id": "Gf7VFnw2k56c"
      }
    },
    {
      "cell_type": "code",
      "source": [
        "from confluent_kafka import Producer, Consumer, KafkaException\n",
        "import time\n",
        "\n",
        "# Kafka Configuration (Simulated)\n",
        "conf_producer = {'bootstrap.servers': 'localhost:9092'}\n",
        "conf_consumer = {\n",
        "    'bootstrap.servers': 'localhost:9092',\n",
        "    'group.id': 'mygroup',\n",
        "    'auto.offset.reset': 'earliest'\n",
        "}\n",
        "\n",
        "# Simulating Kafka Producer\n",
        "def kafka_producer():\n",
        "    producer = Producer(conf_producer)\n",
        "    for i in range(5):\n",
        "        message = f\"Message {i}\"\n",
        "        producer.produce(\"test_topic\", message.encode('utf-8'))\n",
        "        producer.flush()  # Ensure message is sent\n",
        "        print(f\"Produced: {message}\")\n",
        "        time.sleep(1)\n",
        "\n",
        "# Simulating Kafka Consumer\n",
        "def kafka_consumer():\n",
        "    consumer = Consumer(conf_consumer)\n",
        "    consumer.subscribe([\"test_topic\"])\n",
        "\n",
        "    print(\"Consumer started. Waiting for messages...\")\n",
        "    for _ in range(5):\n",
        "        msg = consumer.poll(1.0)  # Poll for new messages\n",
        "        if msg is None:\n",
        "            continue\n",
        "        if msg.error():\n",
        "            raise KafkaException(msg.error())\n",
        "        print(f\"Consumed: {msg.value().decode('utf-8')}\")\n",
        "\n",
        "    consumer.close()\n",
        "\n",
        "# Running Producer and Consumer\n",
        "kafka_producer()\n",
        "time.sleep(2)  # Allow time for messages to be produced\n",
        "kafka_consumer()\n"
      ],
      "metadata": {
        "id": "6X2YZ28Ukt6y"
      },
      "execution_count": null,
      "outputs": []
    },
    {
      "cell_type": "code",
      "source": [
        "!pip install confluent-kafka\n",
        "\n",
        "from confluent_kafka import Producer, Consumer\n",
        "\n",
        "# Kafka broker details (change this to your Kafka broker's address)\n",
        "KAFKA_BROKER = \"your-kafka-broker:9092\"\n",
        "TOPIC = \"test_topic\"\n",
        "\n",
        "# Producer Example\n",
        "producer = Producer({'bootstrap.servers': KAFKA_BROKER})\n",
        "producer.produce(TOPIC, key=\"key1\", value=\"Hello, Kafka from Colab!\")\n",
        "producer.flush()\n",
        "\n",
        "# Consumer Example\n",
        "consumer = Consumer({\n",
        "    'bootstrap.servers': KAFKA_BROKER,\n",
        "    'group.id': 'colab-consumer',\n",
        "    'auto.offset.reset': 'earliest'\n",
        "})\n",
        "consumer.subscribe([TOPIC])\n",
        "\n",
        "msg = consumer.poll(5.0)  # Wait for a message\n",
        "if msg:\n",
        "    print(f\"Received: {msg.value().decode('utf-8')}\")\n",
        "consumer.close()\n"
      ],
      "metadata": {
        "colab": {
          "base_uri": "https://localhost:8080/"
        },
        "id": "hO8qR3njlRss",
        "outputId": "3af759a5-c15f-4656-e117-1ebd72cd55bd"
      },
      "execution_count": null,
      "outputs": [
        {
          "output_type": "stream",
          "name": "stdout",
          "text": [
            "Requirement already satisfied: confluent-kafka in /usr/local/lib/python3.11/dist-packages (2.8.0)\n"
          ]
        }
      ]
    },
    {
      "cell_type": "code",
      "source": [
        "from confluent_kafka import Producer, Consumer\n",
        "\n",
        "# Replace this with your Kafka broker (e.g., AWS, GCP, or local machine)\n",
        "KAFKA_BROKER = \"your-kafka-broker:9092\"\n",
        "TOPIC = \"test_topic\"\n",
        "\n",
        "# ✅ Kafka Producer\n",
        "producer = Producer({'bootstrap.servers': KAFKA_BROKER})\n",
        "\n",
        "def delivery_report(err, msg):\n",
        "    \"\"\" Callback for delivery reports. \"\"\"\n",
        "    if err:\n",
        "        print(f'❌ Message delivery failed: {err}')\n",
        "    else:\n",
        "        print(f'✅ Message delivered to {msg.topic()} [{msg.partition()}]')\n",
        "\n",
        "# Send message\n",
        "producer.produce(TOPIC, key=\"key1\", value=\"Hello, Kafka from Colab!\", callback=delivery_report)\n",
        "# producer.flush()  # Ensure message is sent\n",
        "print(\"📤 Message sent!\")\n",
        "\n",
        "# ✅ Kafka Consumer\n",
        "consumer = Consumer({\n",
        "    'bootstrap.servers': KAFKA_BROKER,\n",
        "    'group.id': 'colab-consumer',\n",
        "    'auto.offset.reset': 'earliest'\n",
        "})\n",
        "\n",
        "consumer.subscribe([TOPIC])\n",
        "\n",
        "print(\"🔄 Waiting for messages...\")\n",
        "msg = consumer.poll(5.0)  # Wait for a message (timeout 5s)\n",
        "\n",
        "if msg is None:\n",
        "    print(\"⚠️ No new messages.\")\n",
        "elif msg.error():\n",
        "    print(f\"❌ Consumer error: {msg.error()}\")\n",
        "else:\n",
        "    print(f\"✅ Received: {msg.value().decode('utf-8')}\")\n",
        "\n",
        "consumer.close()\n"
      ],
      "metadata": {
        "colab": {
          "base_uri": "https://localhost:8080/"
        },
        "id": "ti17Zx8ymPSZ",
        "outputId": "1843e072-1323-4b41-f377-7562c81f53b3"
      },
      "execution_count": 1,
      "outputs": [
        {
          "output_type": "stream",
          "name": "stdout",
          "text": [
            "📤 Message sent!\n",
            "🔄 Waiting for messages...\n",
            "⚠️ No new messages.\n"
          ]
        }
      ]
    },
    {
      "cell_type": "code",
      "source": [
        "# Install required libraries\n",
        "!pip install confluent-kafka\n",
        "\n",
        "# Kafka broker configuration (using a public broker for simplicity)\n",
        "KAFKA_BROKER = 'pkc-4r087.us-west2.gcp.confluent.cloud:9092'  # Replace with your public broker\n",
        "KAFKA_TOPIC = 'test-topic'\n",
        "\n",
        "# Kafka producer code\n",
        "from confluent_kafka import Producer\n",
        "\n",
        "def delivery_report(err, msg):\n",
        "    if err is not None:\n",
        "        print(f'Message delivery failed: {err}')\n",
        "    else:\n",
        "        print(f'Message delivered to {msg.topic()} [{msg.partition()}]')\n",
        "\n",
        "producer_conf = {\n",
        "    'bootstrap.servers': KAFKA_BROKER,\n",
        "    'security.protocol': 'SASL_SSL',\n",
        "    'sasl.mechanisms': 'PLAIN',\n",
        "    'sasl.username': 'YOUR_CONFLUENT_API_KEY',  # Replace with your Confluent API key\n",
        "    'sasl.password': 'YOUR_CONFLUENT_API_SECRET'  # Replace with your Confluent API secret\n",
        "}\n",
        "\n",
        "producer = Producer(producer_conf)\n",
        "\n",
        "# Produce a message\n",
        "producer.produce(KAFKA_TOPIC, key='key', value='Hello, Kafka!', callback=delivery_report)\n",
        "\n",
        "# Kafka consumer code\n",
        "from confluent_kafka import Consumer, KafkaError\n",
        "\n",
        "consumer_conf = {\n",
        "    'bootstrap.servers': KAFKA_BROKER,\n",
        "    'group.id': 'colab-consumer-group',\n",
        "    'auto.offset.reset': 'earliest',\n",
        "    'security.protocol': 'SASL_SSL',\n",
        "    'sasl.mechanisms': 'PLAIN',\n",
        "    'sasl.username': 'YOUR_CONFLUENT_API_KEY',  # Replace with your Confluent API key\n",
        "    'sasl.password': 'YOUR_CONFLUENT_API_SECRET'  # Replace with your Confluent API secret\n",
        "}\n",
        "\n",
        "consumer = Consumer(consumer_conf)\n",
        "consumer.subscribe([KAFKA_TOPIC])\n",
        "\n",
        "# Poll for messages\n",
        "try:\n",
        "    while True:\n",
        "        msg = consumer.poll(timeout=1.0)\n",
        "        if msg is None:\n",
        "            continue\n",
        "        if msg.error():\n",
        "            if msg.error().code() == KafkaError._PARTITION_EOF:\n",
        "                print(f'End of partition reached {msg.partition()}')\n",
        "            else:\n",
        "                print(f'Error: {msg.error()}')\n",
        "        else:\n",
        "            print(f'Received message: {msg.value().decode(\"utf-8\")}')\n",
        "            break  # Exit after receiving the first message\n",
        "except KeyboardInterrupt:\n",
        "    pass\n",
        "finally:\n",
        "    consumer.close()"
      ],
      "metadata": {
        "colab": {
          "base_uri": "https://localhost:8080/"
        },
        "id": "yQicU6FqnJOV",
        "outputId": "e9a29229-5525-4929-aab4-a8d086f459cc"
      },
      "execution_count": 1,
      "outputs": [
        {
          "output_type": "stream",
          "name": "stdout",
          "text": [
            "Requirement already satisfied: confluent-kafka in /usr/local/lib/python3.11/dist-packages (2.8.0)\n"
          ]
        }
      ]
    },
    {
      "cell_type": "code",
      "source": [
        "import queue\n",
        "import threading\n",
        "import time\n",
        "\n",
        "# Simulated Kafka broker (queue)\n",
        "message_queue = queue.Queue()\n",
        "\n",
        "# ✅ Kafka Producer Simulation\n",
        "def producer():\n",
        "    for i in range(5):\n",
        "        message = f\"Message {i+1}\"\n",
        "        print(f\"📤 Producer: Sending -> {message}\")\n",
        "        message_queue.put(message)  # Put message in queue\n",
        "        time.sleep(1)  # Simulate real-time streaming\n",
        "\n",
        "    # Send a STOP signal to notify the consumer to exit\n",
        "    message_queue.put(\"STOP\")\n",
        "\n",
        "# ✅ Kafka Consumer Simulation\n",
        "def consumer():\n",
        "    while True:\n",
        "        message = message_queue.get()  # Wait for a message\n",
        "        if message == \"STOP\":\n",
        "            print(\"🔴 Consumer: Stopping.\")\n",
        "            break\n",
        "        print(f\"✅ Consumer: Received -> {message}\")\n",
        "        time.sleep(0.5)  # Simulate processing delay\n",
        "\n",
        "# ✅ Run Producer & Consumer in Parallel\n",
        "producer_thread = threading.Thread(target=producer)\n",
        "consumer_thread = threading.Thread(target=consumer)\n",
        "\n",
        "producer_thread.start()\n",
        "time.sleep(1)  # Allow producer to start sending messages\n",
        "consumer_thread.start()\n",
        "\n",
        "producer_thread.join()\n",
        "consumer_thread.join()\n",
        "\n",
        "print(\"🚀 Kafka-like pipeline simulation complete!\")\n"
      ],
      "metadata": {
        "colab": {
          "base_uri": "https://localhost:8080/"
        },
        "id": "bFxJpOtPoWJW",
        "outputId": "561d7f1f-8c27-4352-942f-c062378ab878"
      },
      "execution_count": 2,
      "outputs": [
        {
          "output_type": "stream",
          "name": "stdout",
          "text": [
            "📤 Producer: Sending -> Message 1\n",
            "✅ Consumer: Received -> Message 1\n",
            "📤 Producer: Sending -> Message 2\n",
            "✅ Consumer: Received -> Message 2\n",
            "📤 Producer: Sending -> Message 3\n",
            "✅ Consumer: Received -> Message 3\n",
            "📤 Producer: Sending -> Message 4\n",
            "✅ Consumer: Received -> Message 4\n",
            "📤 Producer: Sending -> Message 5\n",
            "✅ Consumer: Received -> Message 5\n",
            "🔴 Consumer: Stopping.\n",
            "🚀 Kafka-like pipeline simulation complete!\n"
          ]
        }
      ]
    },
    {
      "cell_type": "code",
      "source": [
        "import queue\n",
        "import threading\n",
        "import time\n",
        "\n",
        "# Simulated Kafka broker (message queue)\n",
        "message_queue = queue.Queue()\n",
        "\n",
        "# Number of consumers\n",
        "NUM_CONSUMERS = 3\n",
        "\n",
        "# Consumer Queues (Round-Robin Distribution)\n",
        "consumer_queues = [queue.Queue() for _ in range(NUM_CONSUMERS)]\n",
        "\n",
        "# ✅ Kafka Producer Simulation\n",
        "def producer():\n",
        "    for i in range(10):  # Sending 10 messages\n",
        "        message = f\"Message {i+1}\"\n",
        "        print(f\"📤 Producer: Sending -> {message}\")\n",
        "        message_queue.put(message)  # Put message in broker queue\n",
        "        time.sleep(0.5)  # Simulate streaming delay\n",
        "\n",
        "    # Send STOP signals to notify the broker to stop\n",
        "    for _ in range(NUM_CONSUMERS):\n",
        "        message_queue.put(\"STOP\")\n",
        "\n",
        "# ✅ Kafka Broker (Round-Robin Dispatcher)\n",
        "def broker():\n",
        "    consumer_index = 0  # Track which consumer gets the next message\n",
        "\n",
        "    while True:\n",
        "        message = message_queue.get()  # Get message from producer\n",
        "        if message == \"STOP\":\n",
        "            # Send STOP signal to each consumer\n",
        "            for cq in consumer_queues:\n",
        "                cq.put(\"STOP\")\n",
        "            break\n",
        "\n",
        "        # Send message to a consumer in Round-Robin order\n",
        "        consumer_queues[consumer_index].put(message)\n",
        "        print(f\"🔀 Broker: Routed -> {message} to Consumer-{consumer_index+1}\")\n",
        "\n",
        "        # Move to the next consumer (Round-Robin)\n",
        "        consumer_index = (consumer_index + 1) % NUM_CONSUMERS\n",
        "\n",
        "# ✅ Kafka Consumer Simulation\n",
        "def consumer(consumer_id):\n",
        "    while True:\n",
        "        message = consumer_queues[consumer_id].get()  # Get assigned message\n",
        "        if message == \"STOP\":\n",
        "            print(f\"🔴 Consumer-{consumer_id+1}: Stopping.\")\n",
        "            break\n",
        "        print(f\"✅ Consumer-{consumer_id+1}: Received -> {message}\")\n",
        "        time.sleep(1)  # Simulate processing delay\n",
        "\n",
        "# ✅ Run Producer, Broker & Consumers in Parallel\n",
        "producer_thread = threading.Thread(target=producer)\n",
        "broker_thread = threading.Thread(target=broker)\n",
        "consumer_threads = [threading.Thread(target=consumer, args=(i,)) for i in range(NUM_CONSUMERS)]\n",
        "\n",
        "producer_thread.start()\n",
        "time.sleep(1)  # Allow producer to start sending messages\n",
        "broker_thread.start()\n",
        "\n",
        "for ct in consumer_threads:\n",
        "    ct.start()\n",
        "\n",
        "# Wait for all threads to finish\n",
        "producer_thread.join()\n",
        "broker_thread.join()\n",
        "for ct in consumer_threads:\n",
        "    ct.join()\n",
        "\n",
        "print(\"🚀 Kafka-like pipeline with Round-Robin broker complete!\")\n"
      ],
      "metadata": {
        "colab": {
          "base_uri": "https://localhost:8080/"
        },
        "id": "vRPzexzaosBm",
        "outputId": "66a37a94-1083-4911-fff8-4c8d6018e185"
      },
      "execution_count": 3,
      "outputs": [
        {
          "output_type": "stream",
          "name": "stdout",
          "text": [
            "📤 Producer: Sending -> Message 1\n",
            "📤 Producer: Sending -> Message 2\n",
            "📤 Producer: Sending -> Message 3\n",
            "🔀 Broker: Routed -> Message 1 to Consumer-1\n",
            "🔀 Broker: Routed -> Message 2 to Consumer-2\n",
            "✅ Consumer-1: Received -> Message 1\n",
            "🔀 Broker: Routed -> Message 3 to Consumer-3\n",
            "✅ Consumer-2: Received -> Message 2\n",
            "✅ Consumer-3: Received -> Message 3\n",
            "📤 Producer: Sending -> Message 4\n",
            "🔀 Broker: Routed -> Message 4 to Consumer-1\n",
            "📤 Producer: Sending -> Message 5\n",
            "🔀 Broker: Routed -> Message 5 to Consumer-2\n",
            "✅ Consumer-1: Received -> Message 4\n",
            "✅ Consumer-2: Received -> Message 5\n",
            "📤 Producer: Sending -> Message 6\n",
            "🔀 Broker: Routed -> Message 6 to Consumer-3✅ Consumer-3: Received -> Message 6\n",
            "\n",
            "📤 Producer: Sending -> Message 7\n",
            "🔀 Broker: Routed -> Message 7 to Consumer-1\n",
            "✅ Consumer-1: Received -> Message 7\n",
            "📤 Producer: Sending -> Message 8\n",
            "🔀 Broker: Routed -> Message 8 to Consumer-2✅ Consumer-2: Received -> Message 8\n",
            "\n",
            "📤 Producer: Sending -> Message 9\n",
            "🔀 Broker: Routed -> Message 9 to Consumer-3\n",
            "✅ Consumer-3: Received -> Message 9\n",
            "📤 Producer: Sending -> Message 10\n",
            "🔀 Broker: Routed -> Message 10 to Consumer-1✅ Consumer-1: Received -> Message 10\n",
            "\n",
            "🔴 Consumer-2: Stopping.\n",
            "🔴 Consumer-3: Stopping.\n",
            "🔴 Consumer-1: Stopping.\n",
            "🚀 Kafka-like pipeline with Round-Robin broker complete!\n"
          ]
        }
      ]
    }
  ]
}